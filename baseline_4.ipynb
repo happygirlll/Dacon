{
  "cells": [
    {
      "cell_type": "code",
      "source": [
        "# !pip install catboost # 지금 모델은 XGBoost만 사용"
      ],
      "metadata": {
        "colab": {
          "base_uri": "https://localhost:8080/"
        },
        "id": "DSiwaJtoqExX",
        "outputId": "983bf6b9-7a18-4cd5-8299-363f7aae14f2"
      },
      "execution_count": null,
      "outputs": [
        {
          "output_type": "stream",
          "name": "stdout",
          "text": [
            "Collecting catboost\n",
            "  Downloading catboost-1.2.7-cp310-cp310-manylinux2014_x86_64.whl.metadata (1.2 kB)\n",
            "Requirement already satisfied: graphviz in /usr/local/lib/python3.10/dist-packages (from catboost) (0.20.3)\n",
            "Requirement already satisfied: matplotlib in /usr/local/lib/python3.10/dist-packages (from catboost) (3.7.1)\n",
            "Requirement already satisfied: numpy<2.0,>=1.16.0 in /usr/local/lib/python3.10/dist-packages (from catboost) (1.26.4)\n",
            "Requirement already satisfied: pandas>=0.24 in /usr/local/lib/python3.10/dist-packages (from catboost) (2.2.2)\n",
            "Requirement already satisfied: scipy in /usr/local/lib/python3.10/dist-packages (from catboost) (1.13.1)\n",
            "Requirement already satisfied: plotly in /usr/local/lib/python3.10/dist-packages (from catboost) (5.24.1)\n",
            "Requirement already satisfied: six in /usr/local/lib/python3.10/dist-packages (from catboost) (1.16.0)\n",
            "Requirement already satisfied: python-dateutil>=2.8.2 in /usr/local/lib/python3.10/dist-packages (from pandas>=0.24->catboost) (2.8.2)\n",
            "Requirement already satisfied: pytz>=2020.1 in /usr/local/lib/python3.10/dist-packages (from pandas>=0.24->catboost) (2024.2)\n",
            "Requirement already satisfied: tzdata>=2022.7 in /usr/local/lib/python3.10/dist-packages (from pandas>=0.24->catboost) (2024.2)\n",
            "Requirement already satisfied: contourpy>=1.0.1 in /usr/local/lib/python3.10/dist-packages (from matplotlib->catboost) (1.3.0)\n",
            "Requirement already satisfied: cycler>=0.10 in /usr/local/lib/python3.10/dist-packages (from matplotlib->catboost) (0.12.1)\n",
            "Requirement already satisfied: fonttools>=4.22.0 in /usr/local/lib/python3.10/dist-packages (from matplotlib->catboost) (4.54.1)\n",
            "Requirement already satisfied: kiwisolver>=1.0.1 in /usr/local/lib/python3.10/dist-packages (from matplotlib->catboost) (1.4.7)\n",
            "Requirement already satisfied: packaging>=20.0 in /usr/local/lib/python3.10/dist-packages (from matplotlib->catboost) (24.1)\n",
            "Requirement already satisfied: pillow>=6.2.0 in /usr/local/lib/python3.10/dist-packages (from matplotlib->catboost) (10.4.0)\n",
            "Requirement already satisfied: pyparsing>=2.3.1 in /usr/local/lib/python3.10/dist-packages (from matplotlib->catboost) (3.1.4)\n",
            "Requirement already satisfied: tenacity>=6.2.0 in /usr/local/lib/python3.10/dist-packages (from plotly->catboost) (9.0.0)\n",
            "Downloading catboost-1.2.7-cp310-cp310-manylinux2014_x86_64.whl (98.7 MB)\n",
            "\u001b[2K   \u001b[90m━━━━━━━━━━━━━━━━━━━━━━━━━━━━━━━━━━━━━━━━\u001b[0m \u001b[32m98.7/98.7 MB\u001b[0m \u001b[31m5.6 MB/s\u001b[0m eta \u001b[36m0:00:00\u001b[0m\n",
            "\u001b[?25hInstalling collected packages: catboost\n",
            "Successfully installed catboost-1.2.7\n"
          ]
        }
      ]
    },
    {
      "cell_type": "code",
      "execution_count": null,
      "metadata": {
        "id": "EmjG785q2nRu",
        "colab": {
          "base_uri": "https://localhost:8080/"
        },
        "outputId": "3d0ce691-e090-4e17-e04f-3641d8d6c8ef"
      },
      "outputs": [
        {
          "output_type": "stream",
          "name": "stderr",
          "text": [
            "/usr/local/lib/python3.10/dist-packages/dask/dataframe/__init__.py:42: FutureWarning: \n",
            "Dask dataframe query planning is disabled because dask-expr is not installed.\n",
            "\n",
            "You can install it with `pip install dask[dataframe]` or `conda install dask`.\n",
            "This will raise in a future version.\n",
            "\n",
            "  warnings.warn(msg, FutureWarning)\n"
          ]
        }
      ],
      "source": [
        "# 라이브러리 불러오기\n",
        "import pandas as pd\n",
        "from sklearn.preprocessing import LabelEncoder, OrdinalEncoder\n",
        "from sklearn.model_selection import train_test_split, GridSearchCV\n",
        "from sklearn.preprocessing import StandardScaler\n",
        "from sklearn.metrics import accuracy_score, classification_report\n",
        "import xgboost as xgb\n",
        "from imblearn.over_sampling import SMOTE\n",
        "from sklearn.ensemble import RandomForestClassifier, VotingClassifier\n",
        "# from lightgbm import LGBMClassifier\n",
        "# from catboost import CatBoostClassifier\n",
        "import matplotlib.pyplot as plt\n",
        "from sklearn.pipeline import Pipeline"
      ]
    },
    {
      "cell_type": "code",
      "execution_count": null,
      "metadata": {
        "colab": {
          "base_uri": "https://localhost:8080/"
        },
        "id": "ixy5FI522zF6",
        "outputId": "40b9aced-b918-4b66-a340-938654f2ea44"
      },
      "outputs": [
        {
          "output_type": "stream",
          "name": "stdout",
          "text": [
            "Mounted at /content/drive\n"
          ]
        }
      ],
      "source": [
        "from google.colab import drive\n",
        "drive.mount('/content/drive')"
      ]
    },
    {
      "cell_type": "code",
      "execution_count": null,
      "metadata": {
        "id": "IP_A8nk-2s9a"
      },
      "outputs": [],
      "source": [
        "train = pd.read_csv(\"/content/drive/MyDrive/DACON/암환자 유전체 데이터/train.csv\")\n",
        "test = pd.read_csv(\"/content/drive/MyDrive/DACON/암환자 유전체 데이터/test.csv\")"
      ]
    },
    {
      "cell_type": "markdown",
      "source": [
        "# 성능 높이기 위한 시도"
      ],
      "metadata": {
        "id": "w4CRQzchdGlC"
      }
    },
    {
      "cell_type": "markdown",
      "source": [
        "# 작동되는 코드"
      ],
      "metadata": {
        "id": "GwodnvfPdA3q"
      }
    },
    {
      "cell_type": "code",
      "source": [
        "# # 1. SUBCLASS에 암종 이름이 있는지 확인\n",
        "# print(train['SUBCLASS'].unique())  # 암종 이름이 출력되는지 확인"
      ],
      "metadata": {
        "id": "ENO5aBXj8smp"
      },
      "execution_count": null,
      "outputs": []
    },
    {
      "cell_type": "code",
      "source": [
        "# 1. SUBCLASS에 LabelEncoder 적용\n",
        "le_subclass = LabelEncoder()\n",
        "train['SUBCLASS'] = le_subclass.fit_transform(train['SUBCLASS'])\n",
        "\n",
        "# LabelEncoder로 변환된 클래스 확인 (암종 이름)\n",
        "print(\"LabelEncoder classes:\", le_subclass.classes_)"
      ],
      "metadata": {
        "colab": {
          "base_uri": "https://localhost:8080/"
        },
        "id": "5CWxzwzR8_f4",
        "outputId": "addd5826-bbdc-4dc1-f4f2-61090e36812f"
      },
      "execution_count": null,
      "outputs": [
        {
          "output_type": "stream",
          "name": "stdout",
          "text": [
            "LabelEncoder classes: ['ACC' 'BLCA' 'BRCA' 'CESC' 'COAD' 'DLBC' 'GBMLGG' 'HNSC' 'KIPAN' 'KIRC'\n",
            " 'LAML' 'LGG' 'LIHC' 'LUAD' 'LUSC' 'OV' 'PAAD' 'PCPG' 'PRAD' 'SARC' 'SKCM'\n",
            " 'STES' 'TGCT' 'THCA' 'THYM' 'UCEC']\n"
          ]
        }
      ]
    },
    {
      "cell_type": "markdown",
      "source": [
        "## - 아래 코드는 꼭 필요"
      ],
      "metadata": {
        "id": "puxhqdr2IELh"
      }
    },
    {
      "cell_type": "code",
      "execution_count": null,
      "metadata": {
        "colab": {
          "base_uri": "https://localhost:8080/"
        },
        "id": "mdFloCnO2w9i",
        "outputId": "2bc1488d-d867-4f8e-8f64-43f5c18ce228"
      },
      "outputs": [
        {
          "output_type": "stream",
          "name": "stderr",
          "text": [
            "<ipython-input-12-4968fe20e3f0>:9: FutureWarning: Downcasting behavior in `replace` is deprecated and will be removed in a future version. To retain the old behavior, explicitly call `result.infer_objects(copy=False)`. To opt-in to the future behavior, set `pd.set_option('future.no_silent_downcasting', True)`\n",
            "  X_train = X_train.replace({'WT': 0}).applymap(lambda x: 1 if x != 0 else 0)\n",
            "<ipython-input-12-4968fe20e3f0>:9: FutureWarning: DataFrame.applymap has been deprecated. Use DataFrame.map instead.\n",
            "  X_train = X_train.replace({'WT': 0}).applymap(lambda x: 1 if x != 0 else 0)\n",
            "<ipython-input-12-4968fe20e3f0>:10: FutureWarning: Downcasting behavior in `replace` is deprecated and will be removed in a future version. To retain the old behavior, explicitly call `result.infer_objects(copy=False)`. To opt-in to the future behavior, set `pd.set_option('future.no_silent_downcasting', True)`\n",
            "  X_test = X_test.replace({'WT': 0}).applymap(lambda x: 1 if x != 0 else 0)\n",
            "<ipython-input-12-4968fe20e3f0>:10: FutureWarning: DataFrame.applymap has been deprecated. Use DataFrame.map instead.\n",
            "  X_test = X_test.replace({'WT': 0}).applymap(lambda x: 1 if x != 0 else 0)\n"
          ]
        }
      ],
      "source": [
        "# 3. 학습 데이터에서 ID와 SUBCLASS를 제외한 유전자 정보만 사용\n",
        "X_train = train.drop(columns=['ID', 'SUBCLASS'])\n",
        "y_train = train['SUBCLASS']\n",
        "\n",
        "# 4. 테스트 데이터에서 ID를 제외하고 유전자 정보만 사용\n",
        "X_test = test.drop(columns=['ID'])\n",
        "\n",
        "# 5. 유전자 변이 데이터를 0(WT), 1(변이 있음)으로 변환\n",
        "X_train = X_train.replace({'WT': 0}).applymap(lambda x: 1 if x != 0 else 0)\n",
        "X_test = X_test.replace({'WT': 0}).applymap(lambda x: 1 if x != 0 else 0)\n",
        "\n",
        "# 6. 특정 암종에서의 동시 변이 패턴 강조\n",
        "# GBMLGG 암종에서 IDH1과 ATRX 동시 변이가 중요한 역할을 하므로 이를 강조하는 피처 추가\n",
        "X_train['GBMLGG_IDH1_ATRX'] = ((y_train == le_subclass.transform(['GBMLGG'])[0]) &\n",
        "                               (X_train['IDH1'] == 1) &\n",
        "                               (X_train['ATRX'] == 1))\n",
        "\n",
        "# 테스트 데이터에서도 동일한 피처 추가\n",
        "X_test['GBMLGG_IDH1_ATRX'] = (X_test['IDH1'] == 1) & (X_test['ATRX'] == 1)\n",
        "\n",
        "# 7. 유전자 간 상호작용 피처 추가 (예: BRAF와 IDH1, TP53와 PIK3CA 상호작용)\n",
        "X_train['BRAF_IDH1_interaction'] = X_train['BRAF'] * X_train['IDH1']\n",
        "X_test['BRAF_IDH1_interaction'] = X_test['BRAF'] * X_test['IDH1']\n",
        "\n",
        "X_train['TP53_PIK3CA_interaction'] = X_train['TP53'] * X_train['PIK3CA']\n",
        "X_test['TP53_PIK3CA_interaction'] = X_test['TP53'] * X_test['PIK3CA']\n",
        "\n",
        "# 8. IDH1과 ATRX 동시 변이를 반영한 상호작용 피처 추가\n",
        "X_train['IDH1_ATRX_interaction'] = X_train['IDH1'] * X_train['ATRX']\n",
        "X_test['IDH1_ATRX_interaction'] = X_test['IDH1'] * X_test['ATRX']\n",
        "\n",
        "# 9. 변이 빈도 계산 및 피처로 추가\n",
        "X_train['mutation_freq'] = X_train.mean(axis=1)\n",
        "X_test['mutation_freq'] = X_test.mean(axis=1)\n",
        "\n",
        "\n",
        "# 11. 변이 총합 계산\n",
        "X_train['total_mutations'] = X_train.sum(axis=1)\n",
        "X_test['total_mutations'] = X_test.sum(axis=1)\n",
        "\n",
        "\n",
        "# 10. 새로운 피처: mutation_freq에 대한 피처 엔지니어링 (예: 상호작용 피처 및 비율 피처)\n",
        "# mutation_freq가 중요한 피처로 밝혀졌으므로 이를 다른 피처와 결합하여 새로운 피처 생성\n",
        "X_train['mutation_freq_ratio'] = X_train['mutation_freq'] / (X_train['total_mutations'] + 1)  # 변이 빈도 비율\n",
        "X_test['mutation_freq_ratio'] = X_test['mutation_freq'] / (X_test['total_mutations'] + 1)\n",
        "\n",
        "# mutation_freq와 다른 주요 피처 간 상호작용 피처 생성\n",
        "X_train['mutation_freq_TP53_interaction'] = X_train['mutation_freq'] * X_train['TP53']\n",
        "X_test['mutation_freq_TP53_interaction'] = X_test['mutation_freq'] * X_test['TP53']\n",
        "\n",
        "# mutation_freq_ratio와 TP53 간 상호작용 피처 추가\n",
        "X_train['mutation_freq_ratio_TP53_interaction'] = X_train['mutation_freq_ratio'] * X_train['TP53']\n",
        "X_test['mutation_freq_ratio_TP53_interaction'] = X_test['mutation_freq_ratio'] * X_test['TP53']\n",
        "\n",
        "# mutation_freq와 mutation_freq_ratio 간 상호작용 피처 생성\n",
        "X_train['mutation_freq_and_ratio_interaction'] = X_train['mutation_freq'] * X_train['mutation_freq_ratio']\n",
        "X_test['mutation_freq_and_ratio_interaction'] = X_test['mutation_freq'] * X_test['mutation_freq_ratio']\n",
        "\n",
        "# TP53과 mutation_freq_ratio 간 상호작용을 다른 주요 유전자와 결합하여 강화\n",
        "X_train['TP53_BRAF_interaction'] = X_train['TP53'] * X_train['BRAF']\n",
        "X_test['TP53_BRAF_interaction'] = X_test['TP53'] * X_test['BRAF']\n",
        "\n",
        "# 12. 훈련 데이터와 테스트 데이터의 피처 일치\n",
        "missing_cols = set(X_train.columns) - set(X_test.columns)\n",
        "for col in missing_cols:\n",
        "    X_test[col] = 0\n",
        "X_test = X_test[X_train.columns]\n"
      ]
    },
    {
      "cell_type": "code",
      "source": [
        "# 13. 데이터 불균형 해결 (SMOTE)\n",
        "smote = SMOTE(random_state=42)\n",
        "X_resampled, y_resampled = smote.fit_resample(X_train, y_train)\n",
        "\n",
        "# 14. 데이터 분할 (훈련, 검증)\n",
        "X_train_final, X_val, y_train_final, y_val = train_test_split(X_resampled, y_resampled, test_size=0.2, random_state=42)\n",
        "\n",
        "# 15. 데이터 스케일링 (StandardScaler 사용)\n",
        "scaler = StandardScaler()\n",
        "X_train_scaled = scaler.fit_transform(X_train_final)\n",
        "X_val_scaled = scaler.transform(X_val)\n",
        "X_test_scaled = scaler.transform(X_test)\n",
        "\n",
        "# 16. XGBoost 모델 학습\n",
        "xgb_model = xgb.XGBClassifier(n_estimators=100, random_state=42)\n",
        "xgb_model.fit(X_train_scaled, y_train_final)\n",
        "\n",
        "# 17. 검증 데이터로 예측 및 성능 평가\n",
        "y_pred_xgb = xgb_model.predict(X_val_scaled)\n",
        "print(f\"XGBoost Validation Accuracy: {accuracy_score(y_val, y_pred_xgb)}\")\n",
        "print(classification_report(y_val, y_pred_xgb))\n",
        "\n",
        "# 18. 테스트 데이터 예측\n",
        "test_predictions = xgb_model.predict(X_test_scaled)\n",
        "\n",
        "# 19. 피처 중요도 시각화\n",
        "xgb.plot_importance(xgb_model, max_num_features=10)\n",
        "plt.show()\n",
        "\n",
        "# 20. 예측 결과를 다시 원래 SUBCLASS 레이블로 변환 (LabelEncoder로 복원)\n",
        "original_labels = le_subclass.inverse_transform(test_predictions)\n",
        "\n",
        "# 21. 제출 파일 생성 (원래 SUBCLASS 이름으로 변환된 결과 저장)\n",
        "submission = pd.read_csv(\"/content/drive/MyDrive/DACON/암환자 유전체 데이터/sample_submission.csv\")\n",
        "submission[\"SUBCLASS\"] = original_labels  # 예측된 이름을 SUBCLASS에 넣음\n",
        "submission.to_csv('/content/drive/MyDrive/DACON/암환자 유전체 데이터/baseline7_submission.csv', encoding='UTF-8-sig', index=False)\n",
        "\n",
        "print(\"제출 파일이 성공적으로 생성되었습니다.\")"
      ],
      "metadata": {
        "id": "VVvVgt9A9D3A",
        "colab": {
          "base_uri": "https://localhost:8080/",
          "height": 1000
        },
        "outputId": "e9543497-33f1-4208-f266-9b6dc7d2b2c3"
      },
      "execution_count": null,
      "outputs": [
        {
          "output_type": "stream",
          "name": "stdout",
          "text": [
            "XGBoost Validation Accuracy: 0.5474559686888454\n",
            "              precision    recall  f1-score   support\n",
            "\n",
            "           0       0.93      0.82      0.87       172\n",
            "           1       0.66      0.68      0.67       147\n",
            "           2       0.59      0.35      0.44       157\n",
            "           3       0.35      0.40      0.37       160\n",
            "           4       0.92      0.80      0.86       164\n",
            "           5       0.65      0.74      0.70       163\n",
            "           6       0.66      0.50      0.57       155\n",
            "           7       0.53      0.49      0.51       156\n",
            "           8       0.20      0.10      0.14       166\n",
            "           9       0.39      0.34      0.36       151\n",
            "          10       0.57      0.58      0.57       151\n",
            "          11       0.76      0.77      0.76       160\n",
            "          12       0.58      0.44      0.50       162\n",
            "          13       0.70      0.47      0.56       154\n",
            "          14       0.70      0.71      0.71       168\n",
            "          15       0.42      0.48      0.45       163\n",
            "          16       0.45      0.55      0.49       157\n",
            "          17       0.30      0.73      0.42       158\n",
            "          18       0.34      0.37      0.35       159\n",
            "          19       0.44      0.37      0.40       178\n",
            "          20       0.75      0.70      0.72       134\n",
            "          21       0.63      0.40      0.49       169\n",
            "          22       0.31      0.78      0.45       132\n",
            "          23       0.91      0.62      0.74       151\n",
            "          24       0.57      0.37      0.45       136\n",
            "          25       0.80      0.70      0.74       165\n",
            "\n",
            "    accuracy                           0.55      4088\n",
            "   macro avg       0.58      0.55      0.55      4088\n",
            "weighted avg       0.58      0.55      0.55      4088\n",
            "\n"
          ]
        },
        {
          "output_type": "display_data",
          "data": {
            "text/plain": [
              "<Figure size 640x480 with 1 Axes>"
            ],
            "image/png": "[encoded data removed]"
          },
          "metadata": {}
        },
        {
          "output_type": "stream",
          "name": "stdout",
          "text": [
            "제출 파일이 성공적으로 생성되었습니다.\n"
          ]
        }
      ]
    },
    {
      "cell_type": "markdown",
      "source": [
        "## - 특정 변이 정보 시각화"
      ],
      "metadata": {
        "id": "g58I-bvCIAzv"
      }
    },
    {
      "cell_type": "code",
      "source": [
        "import matplotlib.pyplot as plt\n",
        "import seaborn as sns\n",
        "\n",
        "# 유전자 간 상호작용 (BRAF와 IDH1) 히트맵 시각화\n",
        "plt.figure(figsize=(10, 8))\n",
        "sns.heatmap(X_train[['BRAF', 'IDH1', 'TP53', 'PIK3CA']].corr(), annot=True, cmap='coolwarm')\n",
        "plt.title('유전자 간 상관관계 히트맵')\n",
        "plt.show()\n",
        "\n",
        "'''\n",
        "IDH1과 TP53의 상관관계는 약간 긍정적이며, 이 두 유전자는 특정 암종에서 함께 변이가 발생할 가능성을 시사합니다.\n",
        "이러한 상호작용은 모델에서 중요한 예측 변수로 작용할 수 있습니다.\n",
        "'''"
      ],
      "metadata": {
        "colab": {
          "base_uri": "https://localhost:8080/",
          "height": 228
        },
        "id": "M4FvJIPxILWI",
        "outputId": "d6d458e0-033c-4c4a-aa89-ae6fdd885fba"
      },
      "execution_count": null,
      "outputs": [
        {
          "output_type": "error",
          "ename": "NameError",
          "evalue": "name 'X_train' is not defined",
          "traceback": [
            "\u001b[0;31m---------------------------------------------------------------------------\u001b[0m",
            "\u001b[0;31mNameError\u001b[0m                                 Traceback (most recent call last)",
            "\u001b[0;32m<ipython-input-9-821a9e78ee88>\u001b[0m in \u001b[0;36m<cell line: 6>\u001b[0;34m()\u001b[0m\n\u001b[1;32m      4\u001b[0m \u001b[0;31m# 유전자 간 상호작용 (BRAF와 IDH1) 히트맵 시각화\u001b[0m\u001b[0;34m\u001b[0m\u001b[0;34m\u001b[0m\u001b[0m\n\u001b[1;32m      5\u001b[0m \u001b[0mplt\u001b[0m\u001b[0;34m.\u001b[0m\u001b[0mfigure\u001b[0m\u001b[0;34m(\u001b[0m\u001b[0mfigsize\u001b[0m\u001b[0;34m=\u001b[0m\u001b[0;34m(\u001b[0m\u001b[0;36m10\u001b[0m\u001b[0;34m,\u001b[0m \u001b[0;36m8\u001b[0m\u001b[0;34m)\u001b[0m\u001b[0;34m)\u001b[0m\u001b[0;34m\u001b[0m\u001b[0;34m\u001b[0m\u001b[0m\n\u001b[0;32m----> 6\u001b[0;31m \u001b[0msns\u001b[0m\u001b[0;34m.\u001b[0m\u001b[0mheatmap\u001b[0m\u001b[0;34m(\u001b[0m\u001b[0mX_train\u001b[0m\u001b[0;34m[\u001b[0m\u001b[0;34m[\u001b[0m\u001b[0;34m'BRAF'\u001b[0m\u001b[0;34m,\u001b[0m \u001b[0;34m'IDH1'\u001b[0m\u001b[0;34m,\u001b[0m \u001b[0;34m'TP53'\u001b[0m\u001b[0;34m,\u001b[0m \u001b[0;34m'PIK3CA'\u001b[0m\u001b[0;34m]\u001b[0m\u001b[0;34m]\u001b[0m\u001b[0;34m.\u001b[0m\u001b[0mcorr\u001b[0m\u001b[0;34m(\u001b[0m\u001b[0;34m)\u001b[0m\u001b[0;34m,\u001b[0m \u001b[0mannot\u001b[0m\u001b[0;34m=\u001b[0m\u001b[0;32mTrue\u001b[0m\u001b[0;34m,\u001b[0m \u001b[0mcmap\u001b[0m\u001b[0;34m=\u001b[0m\u001b[0;34m'coolwarm'\u001b[0m\u001b[0;34m)\u001b[0m\u001b[0;34m\u001b[0m\u001b[0;34m\u001b[0m\u001b[0m\n\u001b[0m\u001b[1;32m      7\u001b[0m \u001b[0mplt\u001b[0m\u001b[0;34m.\u001b[0m\u001b[0mtitle\u001b[0m\u001b[0;34m(\u001b[0m\u001b[0;34m'유전자 간 상관관계 히트맵'\u001b[0m\u001b[0;34m)\u001b[0m\u001b[0;34m\u001b[0m\u001b[0;34m\u001b[0m\u001b[0m\n\u001b[1;32m      8\u001b[0m \u001b[0mplt\u001b[0m\u001b[0;34m.\u001b[0m\u001b[0mshow\u001b[0m\u001b[0;34m(\u001b[0m\u001b[0;34m)\u001b[0m\u001b[0;34m\u001b[0m\u001b[0;34m\u001b[0m\u001b[0m\n",
            "\u001b[0;31mNameError\u001b[0m: name 'X_train' is not defined"
          ]
        },
        {
          "output_type": "display_data",
          "data": {
            "text/plain": [
              "<Figure size 1000x800 with 0 Axes>"
            ]
          },
          "metadata": {}
        }
      ]
    },
    {
      "cell_type": "code",
      "source": [
        "# 암종 이름으로 변환하여 그래프 시각화\n",
        "plt.figure(figsize=(10, 6))\n",
        "sns.boxplot(x=le_subclass.inverse_transform(train['SUBCLASS']), y=X_train['mutation_freq'])  # 숫자를 암종 이름으로 변환\n",
        "plt.title('암종별 mutation_freq 분포')\n",
        "plt.xlabel('암종')\n",
        "plt.ylabel('mutation_freq')\n",
        "plt.xticks(rotation=45)\n",
        "plt.show()\n",
        "\n",
        "'''\n",
        "GBMLGG, SARC, UCEC 등의 암종에서는 변이 빈도의 변동성이 크고,\n",
        "특정 샘플에서는 변이 빈도가 매우 높은 이상치가 존재합니다.\n",
        "'''"
      ],
      "metadata": {
        "colab": {
          "base_uri": "https://localhost:8080/",
          "height": 245
        },
        "id": "EVfMcqUoIM0S",
        "outputId": "0fa740ee-4591-468a-bcdd-40ce0cf032d6"
      },
      "execution_count": null,
      "outputs": [
        {
          "output_type": "error",
          "ename": "NameError",
          "evalue": "name 'X_train' is not defined",
          "traceback": [
            "\u001b[0;31m---------------------------------------------------------------------------\u001b[0m",
            "\u001b[0;31mNameError\u001b[0m                                 Traceback (most recent call last)",
            "\u001b[0;32m<ipython-input-10-1d37363663b1>\u001b[0m in \u001b[0;36m<cell line: 3>\u001b[0;34m()\u001b[0m\n\u001b[1;32m      1\u001b[0m \u001b[0;31m# 암종 이름으로 변환하여 그래프 시각화\u001b[0m\u001b[0;34m\u001b[0m\u001b[0;34m\u001b[0m\u001b[0m\n\u001b[1;32m      2\u001b[0m \u001b[0mplt\u001b[0m\u001b[0;34m.\u001b[0m\u001b[0mfigure\u001b[0m\u001b[0;34m(\u001b[0m\u001b[0mfigsize\u001b[0m\u001b[0;34m=\u001b[0m\u001b[0;34m(\u001b[0m\u001b[0;36m10\u001b[0m\u001b[0;34m,\u001b[0m \u001b[0;36m6\u001b[0m\u001b[0;34m)\u001b[0m\u001b[0;34m)\u001b[0m\u001b[0;34m\u001b[0m\u001b[0;34m\u001b[0m\u001b[0m\n\u001b[0;32m----> 3\u001b[0;31m \u001b[0msns\u001b[0m\u001b[0;34m.\u001b[0m\u001b[0mboxplot\u001b[0m\u001b[0;34m(\u001b[0m\u001b[0mx\u001b[0m\u001b[0;34m=\u001b[0m\u001b[0mle_subclass\u001b[0m\u001b[0;34m.\u001b[0m\u001b[0minverse_transform\u001b[0m\u001b[0;34m(\u001b[0m\u001b[0mtrain\u001b[0m\u001b[0;34m[\u001b[0m\u001b[0;34m'SUBCLASS'\u001b[0m\u001b[0;34m]\u001b[0m\u001b[0;34m)\u001b[0m\u001b[0;34m,\u001b[0m \u001b[0my\u001b[0m\u001b[0;34m=\u001b[0m\u001b[0mX_train\u001b[0m\u001b[0;34m[\u001b[0m\u001b[0;34m'mutation_freq'\u001b[0m\u001b[0;34m]\u001b[0m\u001b[0;34m)\u001b[0m  \u001b[0;31m# 숫자를 암종 이름으로 변환\u001b[0m\u001b[0;34m\u001b[0m\u001b[0;34m\u001b[0m\u001b[0m\n\u001b[0m\u001b[1;32m      4\u001b[0m \u001b[0mplt\u001b[0m\u001b[0;34m.\u001b[0m\u001b[0mtitle\u001b[0m\u001b[0;34m(\u001b[0m\u001b[0;34m'암종별 mutation_freq 분포'\u001b[0m\u001b[0;34m)\u001b[0m\u001b[0;34m\u001b[0m\u001b[0;34m\u001b[0m\u001b[0m\n\u001b[1;32m      5\u001b[0m \u001b[0mplt\u001b[0m\u001b[0;34m.\u001b[0m\u001b[0mxlabel\u001b[0m\u001b[0;34m(\u001b[0m\u001b[0;34m'암종'\u001b[0m\u001b[0;34m)\u001b[0m\u001b[0;34m\u001b[0m\u001b[0;34m\u001b[0m\u001b[0m\n",
            "\u001b[0;31mNameError\u001b[0m: name 'X_train' is not defined"
          ]
        },
        {
          "output_type": "display_data",
          "data": {
            "text/plain": [
              "<Figure size 1000x600 with 0 Axes>"
            ]
          },
          "metadata": {}
        }
      ]
    },
    {
      "cell_type": "code",
      "source": [
        "# IDH1 변이 빈도 시각화\n",
        "plt.figure(figsize=(10, 6))\n",
        "\n",
        "# 암종 이름을 복원하고 IDH1 변이 빈도를 그룹화\n",
        "mutation_counts = train.groupby('SUBCLASS')['IDH1'].sum().sort_values(ascending=False)\n",
        "mutation_counts.index = le_subclass.inverse_transform(mutation_counts.index)  # 숫자를 암종 이름으로 변환\n",
        "\n",
        "# 변이 빈도 시각화\n",
        "mutation_counts.plot(kind='bar', color='skyblue')\n",
        "plt.title('IDH1 변이 빈도 (암종별)')\n",
        "plt.xlabel('암종')\n",
        "plt.ylabel('IDH1 변이 수')\n",
        "plt.xticks(rotation=45)\n",
        "plt.show()\n",
        "\n",
        "'''\n",
        "이 그래프는 IDH1 변이가 특정 암종에서 특히 자주 발생하며,\n",
        "특히 GBMLGG와 LGG에서 매우 중요한 바이오마커일 가능성을 보여줍니다.\n",
        "이 변이 정보는 암종 분류 모델에서 중요한 피처로 사용될 수 있으며,\n",
        "뇌암과 같은 특정 암종의 분류 성능을 향상시킬 수 있습니다.\n",
        "'''"
      ],
      "metadata": {
        "colab": {
          "base_uri": "https://localhost:8080/",
          "height": 848
        },
        "id": "DYiAPUJCIVDt",
        "outputId": "c5d32971-1750-40d6-a103-6db9f6dccf12"
      },
      "execution_count": null,
      "outputs": [
        {
          "output_type": "error",
          "ename": "TypeError",
          "evalue": "no numeric data to plot",
          "traceback": [
            "\u001b[0;31m---------------------------------------------------------------------------\u001b[0m",
            "\u001b[0;31mTypeError\u001b[0m                                 Traceback (most recent call last)",
            "\u001b[0;32m<ipython-input-11-71e72c1a1ef1>\u001b[0m in \u001b[0;36m<cell line: 9>\u001b[0;34m()\u001b[0m\n\u001b[1;32m      7\u001b[0m \u001b[0;34m\u001b[0m\u001b[0m\n\u001b[1;32m      8\u001b[0m \u001b[0;31m# 변이 빈도 시각화\u001b[0m\u001b[0;34m\u001b[0m\u001b[0;34m\u001b[0m\u001b[0m\n\u001b[0;32m----> 9\u001b[0;31m \u001b[0mmutation_counts\u001b[0m\u001b[0;34m.\u001b[0m\u001b[0mplot\u001b[0m\u001b[0;34m(\u001b[0m\u001b[0mkind\u001b[0m\u001b[0;34m=\u001b[0m\u001b[0;34m'bar'\u001b[0m\u001b[0;34m,\u001b[0m \u001b[0mcolor\u001b[0m\u001b[0;34m=\u001b[0m\u001b[0;34m'skyblue'\u001b[0m\u001b[0;34m)\u001b[0m\u001b[0;34m\u001b[0m\u001b[0;34m\u001b[0m\u001b[0m\n\u001b[0m\u001b[1;32m     10\u001b[0m \u001b[0mplt\u001b[0m\u001b[0;34m.\u001b[0m\u001b[0mtitle\u001b[0m\u001b[0;34m(\u001b[0m\u001b[0;34m'IDH1 변이 빈도 (암종별)'\u001b[0m\u001b[0;34m)\u001b[0m\u001b[0;34m\u001b[0m\u001b[0;34m\u001b[0m\u001b[0m\n\u001b[1;32m     11\u001b[0m \u001b[0mplt\u001b[0m\u001b[0;34m.\u001b[0m\u001b[0mxlabel\u001b[0m\u001b[0;34m(\u001b[0m\u001b[0;34m'암종'\u001b[0m\u001b[0;34m)\u001b[0m\u001b[0;34m\u001b[0m\u001b[0;34m\u001b[0m\u001b[0m\n",
            "\u001b[0;32m/usr/local/lib/python3.10/dist-packages/pandas/plotting/_core.py\u001b[0m in \u001b[0;36m__call__\u001b[0;34m(self, *args, **kwargs)\u001b[0m\n\u001b[1;32m   1028\u001b[0m                     \u001b[0mdata\u001b[0m\u001b[0;34m.\u001b[0m\u001b[0mcolumns\u001b[0m \u001b[0;34m=\u001b[0m \u001b[0mlabel_name\u001b[0m\u001b[0;34m\u001b[0m\u001b[0;34m\u001b[0m\u001b[0m\n\u001b[1;32m   1029\u001b[0m \u001b[0;34m\u001b[0m\u001b[0m\n\u001b[0;32m-> 1030\u001b[0;31m         \u001b[0;32mreturn\u001b[0m \u001b[0mplot_backend\u001b[0m\u001b[0;34m.\u001b[0m\u001b[0mplot\u001b[0m\u001b[0;34m(\u001b[0m\u001b[0mdata\u001b[0m\u001b[0;34m,\u001b[0m \u001b[0mkind\u001b[0m\u001b[0;34m=\u001b[0m\u001b[0mkind\u001b[0m\u001b[0;34m,\u001b[0m \u001b[0;34m**\u001b[0m\u001b[0mkwargs\u001b[0m\u001b[0;34m)\u001b[0m\u001b[0;34m\u001b[0m\u001b[0;34m\u001b[0m\u001b[0m\n\u001b[0m\u001b[1;32m   1031\u001b[0m \u001b[0;34m\u001b[0m\u001b[0m\n\u001b[1;32m   1032\u001b[0m     \u001b[0m__call__\u001b[0m\u001b[0;34m.\u001b[0m\u001b[0m__doc__\u001b[0m \u001b[0;34m=\u001b[0m \u001b[0m__doc__\u001b[0m\u001b[0;34m\u001b[0m\u001b[0;34m\u001b[0m\u001b[0m\n",
            "\u001b[0;32m/usr/local/lib/python3.10/dist-packages/pandas/plotting/_matplotlib/__init__.py\u001b[0m in \u001b[0;36mplot\u001b[0;34m(data, kind, **kwargs)\u001b[0m\n\u001b[1;32m     69\u001b[0m             \u001b[0mkwargs\u001b[0m\u001b[0;34m[\u001b[0m\u001b[0;34m\"ax\"\u001b[0m\u001b[0;34m]\u001b[0m \u001b[0;34m=\u001b[0m \u001b[0mgetattr\u001b[0m\u001b[0;34m(\u001b[0m\u001b[0max\u001b[0m\u001b[0;34m,\u001b[0m \u001b[0;34m\"left_ax\"\u001b[0m\u001b[0;34m,\u001b[0m \u001b[0max\u001b[0m\u001b[0;34m)\u001b[0m\u001b[0;34m\u001b[0m\u001b[0;34m\u001b[0m\u001b[0m\n\u001b[1;32m     70\u001b[0m     \u001b[0mplot_obj\u001b[0m \u001b[0;34m=\u001b[0m \u001b[0mPLOT_CLASSES\u001b[0m\u001b[0;34m[\u001b[0m\u001b[0mkind\u001b[0m\u001b[0;34m]\u001b[0m\u001b[0;34m(\u001b[0m\u001b[0mdata\u001b[0m\u001b[0;34m,\u001b[0m \u001b[0;34m**\u001b[0m\u001b[0mkwargs\u001b[0m\u001b[0;34m)\u001b[0m\u001b[0;34m\u001b[0m\u001b[0;34m\u001b[0m\u001b[0m\n\u001b[0;32m---> 71\u001b[0;31m     \u001b[0mplot_obj\u001b[0m\u001b[0;34m.\u001b[0m\u001b[0mgenerate\u001b[0m\u001b[0;34m(\u001b[0m\u001b[0;34m)\u001b[0m\u001b[0;34m\u001b[0m\u001b[0;34m\u001b[0m\u001b[0m\n\u001b[0m\u001b[1;32m     72\u001b[0m     \u001b[0mplot_obj\u001b[0m\u001b[0;34m.\u001b[0m\u001b[0mdraw\u001b[0m\u001b[0;34m(\u001b[0m\u001b[0;34m)\u001b[0m\u001b[0;34m\u001b[0m\u001b[0;34m\u001b[0m\u001b[0m\n\u001b[1;32m     73\u001b[0m     \u001b[0;32mreturn\u001b[0m \u001b[0mplot_obj\u001b[0m\u001b[0;34m.\u001b[0m\u001b[0mresult\u001b[0m\u001b[0;34m\u001b[0m\u001b[0;34m\u001b[0m\u001b[0m\n",
            "\u001b[0;32m/usr/local/lib/python3.10/dist-packages/pandas/plotting/_matplotlib/core.py\u001b[0m in \u001b[0;36mgenerate\u001b[0;34m(self)\u001b[0m\n\u001b[1;32m    497\u001b[0m     \u001b[0;34m@\u001b[0m\u001b[0mfinal\u001b[0m\u001b[0;34m\u001b[0m\u001b[0;34m\u001b[0m\u001b[0m\n\u001b[1;32m    498\u001b[0m     \u001b[0;32mdef\u001b[0m \u001b[0mgenerate\u001b[0m\u001b[0;34m(\u001b[0m\u001b[0mself\u001b[0m\u001b[0;34m)\u001b[0m \u001b[0;34m->\u001b[0m \u001b[0;32mNone\u001b[0m\u001b[0;34m:\u001b[0m\u001b[0;34m\u001b[0m\u001b[0;34m\u001b[0m\u001b[0m\n\u001b[0;32m--> 499\u001b[0;31m         \u001b[0mself\u001b[0m\u001b[0;34m.\u001b[0m\u001b[0m_compute_plot_data\u001b[0m\u001b[0;34m(\u001b[0m\u001b[0;34m)\u001b[0m\u001b[0;34m\u001b[0m\u001b[0;34m\u001b[0m\u001b[0m\n\u001b[0m\u001b[1;32m    500\u001b[0m         \u001b[0mfig\u001b[0m \u001b[0;34m=\u001b[0m \u001b[0mself\u001b[0m\u001b[0;34m.\u001b[0m\u001b[0mfig\u001b[0m\u001b[0;34m\u001b[0m\u001b[0;34m\u001b[0m\u001b[0m\n\u001b[1;32m    501\u001b[0m         \u001b[0mself\u001b[0m\u001b[0;34m.\u001b[0m\u001b[0m_make_plot\u001b[0m\u001b[0;34m(\u001b[0m\u001b[0mfig\u001b[0m\u001b[0;34m)\u001b[0m\u001b[0;34m\u001b[0m\u001b[0;34m\u001b[0m\u001b[0m\n",
            "\u001b[0;32m/usr/local/lib/python3.10/dist-packages/pandas/plotting/_matplotlib/core.py\u001b[0m in \u001b[0;36m_compute_plot_data\u001b[0;34m(self)\u001b[0m\n\u001b[1;32m    696\u001b[0m         \u001b[0;31m# no non-numeric frames or series allowed\u001b[0m\u001b[0;34m\u001b[0m\u001b[0;34m\u001b[0m\u001b[0m\n\u001b[1;32m    697\u001b[0m         \u001b[0;32mif\u001b[0m \u001b[0mis_empty\u001b[0m\u001b[0;34m:\u001b[0m\u001b[0;34m\u001b[0m\u001b[0;34m\u001b[0m\u001b[0m\n\u001b[0;32m--> 698\u001b[0;31m             \u001b[0;32mraise\u001b[0m \u001b[0mTypeError\u001b[0m\u001b[0;34m(\u001b[0m\u001b[0;34m\"no numeric data to plot\"\u001b[0m\u001b[0;34m)\u001b[0m\u001b[0;34m\u001b[0m\u001b[0;34m\u001b[0m\u001b[0m\n\u001b[0m\u001b[1;32m    699\u001b[0m \u001b[0;34m\u001b[0m\u001b[0m\n\u001b[1;32m    700\u001b[0m         \u001b[0mself\u001b[0m\u001b[0;34m.\u001b[0m\u001b[0mdata\u001b[0m \u001b[0;34m=\u001b[0m \u001b[0mnumeric_data\u001b[0m\u001b[0;34m.\u001b[0m\u001b[0mapply\u001b[0m\u001b[0;34m(\u001b[0m\u001b[0mtype\u001b[0m\u001b[0;34m(\u001b[0m\u001b[0mself\u001b[0m\u001b[0;34m)\u001b[0m\u001b[0;34m.\u001b[0m\u001b[0m_convert_to_ndarray\u001b[0m\u001b[0;34m)\u001b[0m\u001b[0;34m\u001b[0m\u001b[0;34m\u001b[0m\u001b[0m\n",
            "\u001b[0;31mTypeError\u001b[0m: no numeric data to plot"
          ]
        },
        {
          "output_type": "display_data",
          "data": {
            "text/plain": [
              "<Figure size 1000x600 with 1 Axes>"
            ],
            "image/png": "[encoded data removed]"
          },
          "metadata": {}
        }
      ]
    },
    {
      "cell_type": "markdown",
      "source": [
        "## - 중요한 인자 분석"
      ],
      "metadata": {
        "id": "4xexLqOvM3Bi"
      }
    },
    {
      "cell_type": "code",
      "source": [
        "# X_train 또는 X_test에서 피처의 컬럼 이름을 확인\n",
        "feature_names = X_train.columns  # 학습 데이터의 피처 이름 리스트\n",
        "\n",
        "important_feature = feature_names[4388]\n",
        "print(f\"실제 피처 이름: {important_feature}\")"
      ],
      "metadata": {
        "colab": {
          "base_uri": "https://localhost:8080/"
        },
        "id": "EKpC9VwQsfD6",
        "outputId": "1e4b0df6-868a-4ffc-9458-62810eb1fd18"
      },
      "execution_count": null,
      "outputs": [
        {
          "output_type": "stream",
          "name": "stdout",
          "text": [
            "실제 피처 이름: mutation_freq\n"
          ]
        }
      ]
    },
    {
      "cell_type": "code",
      "source": [
        "important_feature = feature_names[4390]\n",
        "print(f\"실제 피처 이름: {important_feature}\")"
      ],
      "metadata": {
        "colab": {
          "base_uri": "https://localhost:8080/"
        },
        "id": "9YcDN-OlOMzc",
        "outputId": "0ac6140d-db7d-4c9f-af9a-b77cf211cd98"
      },
      "execution_count": null,
      "outputs": [
        {
          "output_type": "stream",
          "name": "stdout",
          "text": [
            "실제 피처 이름: mutation_freq_ratio\n"
          ]
        }
      ]
    },
    {
      "cell_type": "code",
      "source": [
        "important_feature = feature_names[4391]\n",
        "print(f\"실제 피처 이름: {important_feature}\")"
      ],
      "metadata": {
        "id": "PLbBu_4N0s5G",
        "outputId": "633f5cd3-8035-49b6-e786-058f11263077",
        "colab": {
          "base_uri": "https://localhost:8080/"
        }
      },
      "execution_count": null,
      "outputs": [
        {
          "output_type": "stream",
          "name": "stdout",
          "text": [
            "실제 피처 이름: mutation_freq_TP53_interaction\n"
          ]
        }
      ]
    },
    {
      "cell_type": "code",
      "source": [
        "important_feature = feature_names[4392]\n",
        "print(f\"실제 피처 이름: {important_feature}\")"
      ],
      "metadata": {
        "colab": {
          "base_uri": "https://localhost:8080/"
        },
        "id": "cY8Ob5vQOdK9",
        "outputId": "f7c485eb-ad36-4ae2-9348-295b5d968ea3"
      },
      "execution_count": null,
      "outputs": [
        {
          "output_type": "stream",
          "name": "stdout",
          "text": [
            "실제 피처 이름: mutation_freq_ratio_TP53_interaction\n"
          ]
        }
      ]
    },
    {
      "cell_type": "code",
      "source": [
        "important_feature = feature_names[3907]\n",
        "print(f\"실제 피처 이름: {important_feature}\")"
      ],
      "metadata": {
        "colab": {
          "base_uri": "https://localhost:8080/"
        },
        "id": "x49PhoD1OoDL",
        "outputId": "1dffe283-772d-4c83-b103-993e882547ab"
      },
      "execution_count": null,
      "outputs": [
        {
          "output_type": "stream",
          "name": "stdout",
          "text": [
            "실제 피처 이름: SYNE1\n"
          ]
        }
      ]
    },
    {
      "cell_type": "code",
      "source": [
        "important_feature = feature_names[2977]\n",
        "print(f\"실제 피처 이름: {important_feature}\")"
      ],
      "metadata": {
        "colab": {
          "base_uri": "https://localhost:8080/"
        },
        "id": "d2FNU-2tSPwg",
        "outputId": "43a598a5-06a6-4308-8e22-7256c866d393"
      },
      "execution_count": null,
      "outputs": [
        {
          "output_type": "stream",
          "name": "stdout",
          "text": [
            "실제 피처 이름: PIK3CA\n"
          ]
        }
      ]
    }
  ],
  "metadata": {
    "colab": {
      "provenance": [],
      "collapsed_sections": [
        "g58I-bvCIAzv",
        "4xexLqOvM3Bi"
      ]
    },
    "kernelspec": {
      "display_name": "Python 3",
      "name": "python3"
    },
    "language_info": {
      "name": "python"
    }
  },
  "nbformat": 4,
  "nbformat_minor": 0
}